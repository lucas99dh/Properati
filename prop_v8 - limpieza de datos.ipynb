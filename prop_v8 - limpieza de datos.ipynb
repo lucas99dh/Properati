{
 "cells": [
  {
   "cell_type": "markdown",
   "metadata": {
    "colab_type": "text",
    "id": "IK0zZ6ZXjt_v"
   },
   "source": [
    "\n",
    "\n",
    "\n",
    "#Análisis del DataSet\n",
    "## Terminamos de limpiar\n",
    "\n",
    "\n"
   ]
  },
  {
   "cell_type": "code",
   "execution_count": 0,
   "metadata": {
    "colab": {},
    "colab_type": "code",
    "id": "b0_a7wwTje-w"
   },
   "outputs": [],
   "source": [
    "import numpy as np\n",
    "import pandas as pd\n",
    "pd.options.display.float_format = '{:,.2f}'.format\n",
    "import matplotlib as mpl\n",
    "import matplotlib.pyplot as plt\n",
    "%matplotlib inline\n",
    "import re\n",
    "from scipy import stats\n",
    "import matplotlib.pyplot as plt\n",
    "import seaborn as sns"
   ]
  },
  {
   "cell_type": "code",
   "execution_count": 3,
   "metadata": {
    "colab": {
     "base_uri": "https://localhost:8080/",
     "height": 392
    },
    "colab_type": "code",
    "executionInfo": {
     "elapsed": 491,
     "status": "error",
     "timestamp": 1569285242875,
     "user": {
      "displayName": "Ivan Novick",
      "photoUrl": "https://lh3.googleusercontent.com/a-/AAuE7mB-quNMYzJkxqobJ6eMbITSl45xaJyzrragG2mjhw=s64",
      "userId": "07900580938845769359"
     },
     "user_tz": 180
    },
    "id": "2OtqV31d6GjO",
    "outputId": "bc929ac2-0a3f-45ce-a4f2-97adff07f0c8"
   },
   "outputs": [
    {
     "ename": "FileNotFoundError",
     "evalue": "ignored",
     "output_type": "error",
     "traceback": [
      "\u001b[0;31m---------------------------------------------------------------------------\u001b[0m",
      "\u001b[0;31mFileNotFoundError\u001b[0m                         Traceback (most recent call last)",
      "\u001b[0;32m<ipython-input-3-1a6ac9bea0fd>\u001b[0m in \u001b[0;36m<module>\u001b[0;34m()\u001b[0m\n\u001b[0;32m----> 1\u001b[0;31m \u001b[0mprop\u001b[0m \u001b[0;34m=\u001b[0m \u001b[0mpd\u001b[0m\u001b[0;34m.\u001b[0m\u001b[0mread_csv\u001b[0m\u001b[0;34m(\u001b[0m\u001b[0;34m\"properatti.csv\"\u001b[0m\u001b[0;34m,\u001b[0m\u001b[0msep\u001b[0m\u001b[0;34m=\u001b[0m\u001b[0;34m','\u001b[0m\u001b[0;34m)\u001b[0m \u001b[0;31m#tenemos un archivo .csv -comma separated values- de 150 MB\u001b[0m\u001b[0;34m\u001b[0m\u001b[0;34m\u001b[0m\u001b[0m\n\u001b[0m\u001b[1;32m      2\u001b[0m \u001b[0mprint\u001b[0m\u001b[0;34m(\u001b[0m\u001b[0;34m\"Done\"\u001b[0m\u001b[0;34m)\u001b[0m\u001b[0;34m\u001b[0m\u001b[0;34m\u001b[0m\u001b[0m\n",
      "\u001b[0;32m/usr/local/lib/python3.6/dist-packages/pandas/io/parsers.py\u001b[0m in \u001b[0;36mparser_f\u001b[0;34m(filepath_or_buffer, sep, delimiter, header, names, index_col, usecols, squeeze, prefix, mangle_dupe_cols, dtype, engine, converters, true_values, false_values, skipinitialspace, skiprows, skipfooter, nrows, na_values, keep_default_na, na_filter, verbose, skip_blank_lines, parse_dates, infer_datetime_format, keep_date_col, date_parser, dayfirst, iterator, chunksize, compression, thousands, decimal, lineterminator, quotechar, quoting, doublequote, escapechar, comment, encoding, dialect, tupleize_cols, error_bad_lines, warn_bad_lines, delim_whitespace, low_memory, memory_map, float_precision)\u001b[0m\n\u001b[1;32m    700\u001b[0m                     skip_blank_lines=skip_blank_lines)\n\u001b[1;32m    701\u001b[0m \u001b[0;34m\u001b[0m\u001b[0m\n\u001b[0;32m--> 702\u001b[0;31m         \u001b[0;32mreturn\u001b[0m \u001b[0m_read\u001b[0m\u001b[0;34m(\u001b[0m\u001b[0mfilepath_or_buffer\u001b[0m\u001b[0;34m,\u001b[0m \u001b[0mkwds\u001b[0m\u001b[0;34m)\u001b[0m\u001b[0;34m\u001b[0m\u001b[0;34m\u001b[0m\u001b[0m\n\u001b[0m\u001b[1;32m    703\u001b[0m \u001b[0;34m\u001b[0m\u001b[0m\n\u001b[1;32m    704\u001b[0m     \u001b[0mparser_f\u001b[0m\u001b[0;34m.\u001b[0m\u001b[0m__name__\u001b[0m \u001b[0;34m=\u001b[0m \u001b[0mname\u001b[0m\u001b[0;34m\u001b[0m\u001b[0;34m\u001b[0m\u001b[0m\n",
      "\u001b[0;32m/usr/local/lib/python3.6/dist-packages/pandas/io/parsers.py\u001b[0m in \u001b[0;36m_read\u001b[0;34m(filepath_or_buffer, kwds)\u001b[0m\n\u001b[1;32m    427\u001b[0m \u001b[0;34m\u001b[0m\u001b[0m\n\u001b[1;32m    428\u001b[0m     \u001b[0;31m# Create the parser.\u001b[0m\u001b[0;34m\u001b[0m\u001b[0;34m\u001b[0m\u001b[0;34m\u001b[0m\u001b[0m\n\u001b[0;32m--> 429\u001b[0;31m     \u001b[0mparser\u001b[0m \u001b[0;34m=\u001b[0m \u001b[0mTextFileReader\u001b[0m\u001b[0;34m(\u001b[0m\u001b[0mfilepath_or_buffer\u001b[0m\u001b[0;34m,\u001b[0m \u001b[0;34m**\u001b[0m\u001b[0mkwds\u001b[0m\u001b[0;34m)\u001b[0m\u001b[0;34m\u001b[0m\u001b[0;34m\u001b[0m\u001b[0m\n\u001b[0m\u001b[1;32m    430\u001b[0m \u001b[0;34m\u001b[0m\u001b[0m\n\u001b[1;32m    431\u001b[0m     \u001b[0;32mif\u001b[0m \u001b[0mchunksize\u001b[0m \u001b[0;32mor\u001b[0m \u001b[0miterator\u001b[0m\u001b[0;34m:\u001b[0m\u001b[0;34m\u001b[0m\u001b[0;34m\u001b[0m\u001b[0m\n",
      "\u001b[0;32m/usr/local/lib/python3.6/dist-packages/pandas/io/parsers.py\u001b[0m in \u001b[0;36m__init__\u001b[0;34m(self, f, engine, **kwds)\u001b[0m\n\u001b[1;32m    893\u001b[0m             \u001b[0mself\u001b[0m\u001b[0;34m.\u001b[0m\u001b[0moptions\u001b[0m\u001b[0;34m[\u001b[0m\u001b[0;34m'has_index_names'\u001b[0m\u001b[0;34m]\u001b[0m \u001b[0;34m=\u001b[0m \u001b[0mkwds\u001b[0m\u001b[0;34m[\u001b[0m\u001b[0;34m'has_index_names'\u001b[0m\u001b[0;34m]\u001b[0m\u001b[0;34m\u001b[0m\u001b[0;34m\u001b[0m\u001b[0m\n\u001b[1;32m    894\u001b[0m \u001b[0;34m\u001b[0m\u001b[0m\n\u001b[0;32m--> 895\u001b[0;31m         \u001b[0mself\u001b[0m\u001b[0;34m.\u001b[0m\u001b[0m_make_engine\u001b[0m\u001b[0;34m(\u001b[0m\u001b[0mself\u001b[0m\u001b[0;34m.\u001b[0m\u001b[0mengine\u001b[0m\u001b[0;34m)\u001b[0m\u001b[0;34m\u001b[0m\u001b[0;34m\u001b[0m\u001b[0m\n\u001b[0m\u001b[1;32m    896\u001b[0m \u001b[0;34m\u001b[0m\u001b[0m\n\u001b[1;32m    897\u001b[0m     \u001b[0;32mdef\u001b[0m \u001b[0mclose\u001b[0m\u001b[0;34m(\u001b[0m\u001b[0mself\u001b[0m\u001b[0;34m)\u001b[0m\u001b[0;34m:\u001b[0m\u001b[0;34m\u001b[0m\u001b[0;34m\u001b[0m\u001b[0m\n",
      "\u001b[0;32m/usr/local/lib/python3.6/dist-packages/pandas/io/parsers.py\u001b[0m in \u001b[0;36m_make_engine\u001b[0;34m(self, engine)\u001b[0m\n\u001b[1;32m   1120\u001b[0m     \u001b[0;32mdef\u001b[0m \u001b[0m_make_engine\u001b[0m\u001b[0;34m(\u001b[0m\u001b[0mself\u001b[0m\u001b[0;34m,\u001b[0m \u001b[0mengine\u001b[0m\u001b[0;34m=\u001b[0m\u001b[0;34m'c'\u001b[0m\u001b[0;34m)\u001b[0m\u001b[0;34m:\u001b[0m\u001b[0;34m\u001b[0m\u001b[0;34m\u001b[0m\u001b[0m\n\u001b[1;32m   1121\u001b[0m         \u001b[0;32mif\u001b[0m \u001b[0mengine\u001b[0m \u001b[0;34m==\u001b[0m \u001b[0;34m'c'\u001b[0m\u001b[0;34m:\u001b[0m\u001b[0;34m\u001b[0m\u001b[0;34m\u001b[0m\u001b[0m\n\u001b[0;32m-> 1122\u001b[0;31m             \u001b[0mself\u001b[0m\u001b[0;34m.\u001b[0m\u001b[0m_engine\u001b[0m \u001b[0;34m=\u001b[0m \u001b[0mCParserWrapper\u001b[0m\u001b[0;34m(\u001b[0m\u001b[0mself\u001b[0m\u001b[0;34m.\u001b[0m\u001b[0mf\u001b[0m\u001b[0;34m,\u001b[0m \u001b[0;34m**\u001b[0m\u001b[0mself\u001b[0m\u001b[0;34m.\u001b[0m\u001b[0moptions\u001b[0m\u001b[0;34m)\u001b[0m\u001b[0;34m\u001b[0m\u001b[0;34m\u001b[0m\u001b[0m\n\u001b[0m\u001b[1;32m   1123\u001b[0m         \u001b[0;32melse\u001b[0m\u001b[0;34m:\u001b[0m\u001b[0;34m\u001b[0m\u001b[0;34m\u001b[0m\u001b[0m\n\u001b[1;32m   1124\u001b[0m             \u001b[0;32mif\u001b[0m \u001b[0mengine\u001b[0m \u001b[0;34m==\u001b[0m \u001b[0;34m'python'\u001b[0m\u001b[0;34m:\u001b[0m\u001b[0;34m\u001b[0m\u001b[0;34m\u001b[0m\u001b[0m\n",
      "\u001b[0;32m/usr/local/lib/python3.6/dist-packages/pandas/io/parsers.py\u001b[0m in \u001b[0;36m__init__\u001b[0;34m(self, src, **kwds)\u001b[0m\n\u001b[1;32m   1851\u001b[0m         \u001b[0mkwds\u001b[0m\u001b[0;34m[\u001b[0m\u001b[0;34m'usecols'\u001b[0m\u001b[0;34m]\u001b[0m \u001b[0;34m=\u001b[0m \u001b[0mself\u001b[0m\u001b[0;34m.\u001b[0m\u001b[0musecols\u001b[0m\u001b[0;34m\u001b[0m\u001b[0;34m\u001b[0m\u001b[0m\n\u001b[1;32m   1852\u001b[0m \u001b[0;34m\u001b[0m\u001b[0m\n\u001b[0;32m-> 1853\u001b[0;31m         \u001b[0mself\u001b[0m\u001b[0;34m.\u001b[0m\u001b[0m_reader\u001b[0m \u001b[0;34m=\u001b[0m \u001b[0mparsers\u001b[0m\u001b[0;34m.\u001b[0m\u001b[0mTextReader\u001b[0m\u001b[0;34m(\u001b[0m\u001b[0msrc\u001b[0m\u001b[0;34m,\u001b[0m \u001b[0;34m**\u001b[0m\u001b[0mkwds\u001b[0m\u001b[0;34m)\u001b[0m\u001b[0;34m\u001b[0m\u001b[0;34m\u001b[0m\u001b[0m\n\u001b[0m\u001b[1;32m   1854\u001b[0m         \u001b[0mself\u001b[0m\u001b[0;34m.\u001b[0m\u001b[0munnamed_cols\u001b[0m \u001b[0;34m=\u001b[0m \u001b[0mself\u001b[0m\u001b[0;34m.\u001b[0m\u001b[0m_reader\u001b[0m\u001b[0;34m.\u001b[0m\u001b[0munnamed_cols\u001b[0m\u001b[0;34m\u001b[0m\u001b[0;34m\u001b[0m\u001b[0m\n\u001b[1;32m   1855\u001b[0m \u001b[0;34m\u001b[0m\u001b[0m\n",
      "\u001b[0;32mpandas/_libs/parsers.pyx\u001b[0m in \u001b[0;36mpandas._libs.parsers.TextReader.__cinit__\u001b[0;34m()\u001b[0m\n",
      "\u001b[0;32mpandas/_libs/parsers.pyx\u001b[0m in \u001b[0;36mpandas._libs.parsers.TextReader._setup_parser_source\u001b[0;34m()\u001b[0m\n",
      "\u001b[0;31mFileNotFoundError\u001b[0m: [Errno 2] File b'properatti.csv' does not exist: b'properatti.csv'"
     ]
    }
   ],
   "source": [
    "prop = pd.read_csv(\"properatti.csv\",sep=',') #tenemos un archivo .csv -comma separated values- de 150 MB\n",
    "print(\"Done\")"
   ]
  },
  {
   "cell_type": "code",
   "execution_count": 0,
   "metadata": {
    "colab": {},
    "colab_type": "code",
    "id": "QbisH3f36GjQ",
    "scrolled": false
   },
   "outputs": [],
   "source": [
    "prop.info()\n",
    "#el dataset consta de un total de 26 columnas e inicialmente 121.220 registros"
   ]
  },
  {
   "cell_type": "code",
   "execution_count": 0,
   "metadata": {
    "colab": {},
    "colab_type": "code",
    "id": "l5EfNL6P6GjT"
   },
   "outputs": [],
   "source": [
    "prop.columns # traes las \"etiquetas\"/\"labels\" de las columnas"
   ]
  },
  {
   "cell_type": "code",
   "execution_count": 0,
   "metadata": {
    "colab": {},
    "colab_type": "code",
    "id": "IU18SJmk6GjV"
   },
   "outputs": [],
   "source": [
    "prop['Unnamed: 0'].unique() #es un contador de registros"
   ]
  },
  {
   "cell_type": "code",
   "execution_count": 0,
   "metadata": {
    "colab": {},
    "colab_type": "code",
    "id": "c3ODdyyp6GjY"
   },
   "outputs": [],
   "source": [
    "prop['operation'].unique() #son todos ventas, se podria borrar"
   ]
  },
  {
   "cell_type": "code",
   "execution_count": 0,
   "metadata": {
    "colab": {},
    "colab_type": "code",
    "id": "A8crbZMj6Gja"
   },
   "outputs": [],
   "source": [
    "prop['property_type'].unique() #devuelve los valores únicos de una serie\n",
    "                               #\"store\" / \"tienda\" lo separaria para hacer un analisis aparte \n",
    "                               #porque seguramente el modelo predictor \\\n",
    "                               # deba ser otro"
   ]
  },
  {
   "cell_type": "code",
   "execution_count": 0,
   "metadata": {
    "colab": {},
    "colab_type": "code",
    "id": "KtY6hfCp6Gjc"
   },
   "outputs": [],
   "source": [
    "prop['place_name'].unique()"
   ]
  },
  {
   "cell_type": "code",
   "execution_count": 0,
   "metadata": {
    "colab": {},
    "colab_type": "code",
    "id": "IMfUsPt26Gjf"
   },
   "outputs": [],
   "source": [
    "prop['place_with_parent_names'].unique()"
   ]
  },
  {
   "cell_type": "code",
   "execution_count": 0,
   "metadata": {
    "colab": {},
    "colab_type": "code",
    "id": "Zt0yeT0S6Gji"
   },
   "outputs": [],
   "source": [
    "prop['country_name'].unique() # todos los registros corresponden a Argentina, es una columna sin valor para nosostros"
   ]
  },
  {
   "cell_type": "code",
   "execution_count": 0,
   "metadata": {
    "colab": {},
    "colab_type": "code",
    "id": "qlQfHhoF6Gjk"
   },
   "outputs": [],
   "source": [
    "prop['state_name'].unique() #corresponde al nombre de Provincia, salvo GBA que lo separa por zona"
   ]
  },
  {
   "cell_type": "code",
   "execution_count": 0,
   "metadata": {
    "colab": {},
    "colab_type": "code",
    "id": "gH55UvL46Gjm"
   },
   "outputs": [],
   "source": [
    "prop['price'].dtype"
   ]
  },
  {
   "cell_type": "code",
   "execution_count": 0,
   "metadata": {
    "colab": {},
    "colab_type": "code",
    "id": "FKPhP4DY6Gjr"
   },
   "outputs": [],
   "source": [
    "prop['expenses'].describe()"
   ]
  },
  {
   "cell_type": "code",
   "execution_count": 0,
   "metadata": {
    "colab": {},
    "colab_type": "code",
    "id": "Wk-g48lP6Gju"
   },
   "outputs": [],
   "source": [
    "prop['currency'].unique()"
   ]
  },
  {
   "cell_type": "code",
   "execution_count": 0,
   "metadata": {
    "colab": {},
    "colab_type": "code",
    "id": "duGSg2Nd6Gjw"
   },
   "outputs": [],
   "source": [
    "prop['currency'].value_counts() #value counts returnea una serie "
   ]
  },
  {
   "cell_type": "code",
   "execution_count": 0,
   "metadata": {
    "colab": {},
    "colab_type": "code",
    "id": "TN8J3F0f6Gjy"
   },
   "outputs": [],
   "source": [
    "prop[(prop['currency']=='UYU')] ## registros con distinta moneda y sin informacion de m2 y sup2,\n",
    "                                ## a eliminar"
   ]
  },
  {
   "cell_type": "code",
   "execution_count": 0,
   "metadata": {
    "colab": {},
    "colab_type": "code",
    "id": "4mfLHZlpi69G"
   },
   "outputs": [],
   "source": [
    "prop.loc[107390]"
   ]
  },
  {
   "cell_type": "code",
   "execution_count": 0,
   "metadata": {
    "colab": {},
    "colab_type": "code",
    "id": "b2r4TQDDi69J"
   },
   "outputs": [],
   "source": [
    "# El registro en moneda uruguaya no presenta información consistente\n",
    "prop.drop(index=107390,axis=0,inplace=True)"
   ]
  },
  {
   "cell_type": "code",
   "execution_count": 0,
   "metadata": {
    "colab": {},
    "colab_type": "code",
    "id": "kCsYz7kvi69K"
   },
   "outputs": [],
   "source": [
    "prop[(prop['currency']=='UYU')]"
   ]
  },
  {
   "cell_type": "code",
   "execution_count": 0,
   "metadata": {
    "colab": {},
    "colab_type": "code",
    "id": "R8y3GRM06Gj0"
   },
   "outputs": [],
   "source": [
    "prop[(prop['currency']=='PEN')] ## registros con distinta moneda y sin informacion de m2 y sup2, a eliminar\n",
    "                                ## Refiere a PEN == Sol Peruano"
   ]
  },
  {
   "cell_type": "code",
   "execution_count": 0,
   "metadata": {
    "colab": {},
    "colab_type": "code",
    "id": "rgXm_lUGi69P"
   },
   "outputs": [],
   "source": [
    "prop.loc[50387] #este registro es una preventa, borramos las preventas?"
   ]
  },
  {
   "cell_type": "code",
   "execution_count": 0,
   "metadata": {
    "colab": {},
    "colab_type": "code",
    "id": "_C0WlNLdi69R"
   },
   "outputs": [],
   "source": [
    "prop.drop(index=50387,axis=0,inplace=True)"
   ]
  },
  {
   "cell_type": "code",
   "execution_count": 0,
   "metadata": {
    "colab": {},
    "colab_type": "code",
    "id": "C_j9zs_mi69U"
   },
   "outputs": [],
   "source": [
    "prop.loc[50388] # este registro se puede conservar ya que tiene precio en u$s se puede inferir\n",
    "                # por tipo de propiedad y precio los m2 o estimarlo por zona"
   ]
  },
  {
   "cell_type": "code",
   "execution_count": 0,
   "metadata": {
    "colab": {},
    "colab_type": "code",
    "id": "7QNhdgWTi69X"
   },
   "outputs": [],
   "source": [
    "#Verificamos que solo queda el registro que conservaremos\n",
    "prop[(prop['currency']=='PEN')]"
   ]
  },
  {
   "cell_type": "code",
   "execution_count": 0,
   "metadata": {
    "colab": {},
    "colab_type": "code",
    "id": "naY1puJe6Gj2"
   },
   "outputs": [],
   "source": [
    "# Eliminamos los valores redundantes para nuestro análisis:\n",
    "# Country_name y Operation que lo demostramos antes\n",
    "# ELiminamos tb image_thumbnail y properati_url porque no son relevante para nuestro análisis\n",
    "\n",
    "prop.drop(['image_thumbnail', 'properati_url','operation','country_name',], axis=1, inplace=True)\n",
    "prop.columns"
   ]
  },
  {
   "cell_type": "code",
   "execution_count": 0,
   "metadata": {
    "colab": {},
    "colab_type": "code",
    "id": "p6ba4Bqi6Gj4"
   },
   "outputs": [],
   "source": [
    "# Remplazaremos nombres de columnas y reorganizaremos su orden\n",
    "\n",
    "prop.columns = ['id', 't_prop', 'localidad', 'lugar_completo',\n",
    "       'provincia', 'geonames_id', 'lat-lon', 'lat', 'lon', 'precio_original',\n",
    "       'moneda_original', 'precio_$', 'precio_u$s_aprox',\n",
    "       'sup_tot_m2', 'sup_cub_m2', 'precio_m2_u$s',\n",
    "       'precio_m2', 'piso', 'ambientes', 'expenses?', 'descr', 'tit']"
   ]
  },
  {
   "cell_type": "code",
   "execution_count": 0,
   "metadata": {
    "colab": {},
    "colab_type": "code",
    "id": "dhXTXW7W6Gj6"
   },
   "outputs": [],
   "source": [
    "prop.describe(include='all').T"
   ]
  },
  {
   "cell_type": "code",
   "execution_count": 0,
   "metadata": {
    "colab": {},
    "colab_type": "code",
    "id": "ozan3o7V6Gj9"
   },
   "outputs": [],
   "source": [
    "m2_uss_provincia = prop.pivot_table(['precio_m2_u$s'],index=['provincia'],\\\n",
    "                                    columns='t_prop',aggfunc=['mean'])\n",
    "m2_uss_provincia.head(5)"
   ]
  },
  {
   "cell_type": "code",
   "execution_count": 0,
   "metadata": {
    "colab": {},
    "colab_type": "code",
    "id": "EmNPm9Bp6GkA"
   },
   "outputs": [],
   "source": [
    "m2_uss_localidad = prop.pivot_table('precio_m2_u$s',index=['localidad'],\\\n",
    "                                    columns='t_prop',aggfunc=['mean'])\n",
    "m2_uss_localidad.head()"
   ]
  },
  {
   "cell_type": "code",
   "execution_count": 0,
   "metadata": {
    "colab": {},
    "colab_type": "code",
    "id": "lPB0Xzwj6GkE"
   },
   "outputs": [],
   "source": [
    "#Chequeo duplicados\n",
    "\n",
    "#Al parecer, tenemos 5080 registros duplicados\n",
    "\n",
    "t_prop_dupli = prop.iloc[:,1:].duplicated() == True\n",
    "t_prop_dupli.sum()"
   ]
  },
  {
   "cell_type": "code",
   "execution_count": 0,
   "metadata": {
    "colab": {},
    "colab_type": "code",
    "id": "VkZDjqoo6GkG"
   },
   "outputs": [],
   "source": [
    "#Creo columna en dataframe prop que identifica registros duplicados\n",
    "prop['duplicados'] = list(t_prop_dupli)"
   ]
  },
  {
   "cell_type": "code",
   "execution_count": 0,
   "metadata": {
    "colab": {},
    "colab_type": "code",
    "id": "DZEoQyRt6GkI"
   },
   "outputs": [],
   "source": [
    "prop['duplicados'].value_counts()"
   ]
  },
  {
   "cell_type": "code",
   "execution_count": 0,
   "metadata": {
    "colab": {},
    "colab_type": "code",
    "id": "wdIQ6IXY6GkJ"
   },
   "outputs": [],
   "source": [
    "#Eliminamos las filas repetidas\n",
    "#no funciono: prop.drop(prop.loc[prop.duplicados == True],axis=0,inplace=True)\n",
    "\n",
    "prop_sin_dupli = prop[(prop.duplicados == False)]"
   ]
  },
  {
   "cell_type": "code",
   "execution_count": 0,
   "metadata": {
    "colab": {},
    "colab_type": "code",
    "id": "Dpsk37yd6GkL"
   },
   "outputs": [],
   "source": [
    "#verificamos haber borrados los registros duplicados\n",
    "\n",
    "prop_sin_dupli['duplicados'].value_counts()"
   ]
  },
  {
   "cell_type": "code",
   "execution_count": 0,
   "metadata": {
    "colab": {},
    "colab_type": "code",
    "id": "DHX4Tdyd6GkN",
    "scrolled": true
   },
   "outputs": [],
   "source": [
    "prop_sin_dupli.info()\n",
    "\n",
    "#Pasamos de 121.220 registros originales - duplicados (5.080) = 116.138 valores únicos!"
   ]
  },
  {
   "cell_type": "code",
   "execution_count": 0,
   "metadata": {
    "colab": {},
    "colab_type": "code",
    "id": "tYbg6jy06GkS"
   },
   "outputs": [],
   "source": [
    " # Notamos un hecho relevante: todas las localidades que faltan corresponden a Tigre, PBA\n",
    "\n",
    "prop_sin_dupli.loc[prop_sin_dupli['localidad'].isnull()]"
   ]
  },
  {
   "cell_type": "code",
   "execution_count": 0,
   "metadata": {
    "colab": {},
    "colab_type": "code",
    "id": "ry98nvadm9Ad"
   },
   "outputs": [],
   "source": [
    "#Este registro en particular también es de Tigre\n",
    "prop_sin_dupli.loc[7367 ,:]\n",
    "prop_sin_dupli.loc[7367 ,\"localidad\"]= 'Tigre'"
   ]
  },
  {
   "cell_type": "code",
   "execution_count": 0,
   "metadata": {
    "colab": {},
    "colab_type": "code",
    "id": "BkR69eNz6GkU"
   },
   "outputs": [],
   "source": [
    "# Le asignamos a las localidades faltantes la correspondiente: la totalidad de las mismas se encontraba en Tigre, PBA\n",
    "\n",
    "prop_sin_dupli.loc[(prop_sin_dupli['localidad'].isnull() == True),['localidad']] = 'Tigre'"
   ]
  },
  {
   "cell_type": "code",
   "execution_count": 0,
   "metadata": {
    "colab": {},
    "colab_type": "code",
    "id": "C_e-rV8j6GkW"
   },
   "outputs": [],
   "source": [
    "# verificamos que no haya quedado ninguna localidad vacia \n",
    "\n",
    "prop_sin_dupli['localidad'].isnull().sum()"
   ]
  },
  {
   "cell_type": "code",
   "execution_count": 0,
   "metadata": {
    "colab": {},
    "colab_type": "code",
    "id": "SE6z5Hd16GkX"
   },
   "outputs": [],
   "source": [
    "# creamos un DataFrame temporal (t_precios) donde vamos a guardar solamente todos los datos de precios\n",
    "\n",
    "t_precios = prop_sin_dupli.copy()\n",
    "t_precios.drop(['t_prop','localidad','lugar_completo','provincia','geonames_id','lat-lon',\n",
    "'lat','lon','descr','tit','duplicados','piso','expenses?','ambientes'],inplace=True,axis=1)"
   ]
  },
  {
   "cell_type": "code",
   "execution_count": 0,
   "metadata": {
    "colab": {},
    "colab_type": "code",
    "id": "O-_z5Bs4i691"
   },
   "outputs": [],
   "source": [
    "# Identificamos el Tipo de Cambio a utilizar para la conversion de u$s a $ y lo guardamos un una variable tc (tipo de cambio)\n",
    "\n",
    "tc = (prop_sin_dupli[prop_sin_dupli[\"moneda_original\"] == \"USD\"][\"precio_$\"] / \\\n",
    "      prop_sin_dupli[prop_sin_dupli[\"moneda_original\"] == \"USD\"][\"precio_original\"])\\\n",
    "      .mode().copy()\n",
    "tc"
   ]
  },
  {
   "cell_type": "code",
   "execution_count": 0,
   "metadata": {
    "colab": {},
    "colab_type": "code",
    "id": "tC7j_1q6m9Aw"
   },
   "outputs": [],
   "source": [
    "prop_sin_dupli.pivot_table(values='ambientes',index='t_prop',aggfunc='count',margins=True)"
   ]
  },
  {
   "cell_type": "code",
   "execution_count": 0,
   "metadata": {
    "colab": {},
    "colab_type": "code",
    "id": "mZJojZKr6GkZ",
    "scrolled": true
   },
   "outputs": [],
   "source": [
    "# verificamos\n",
    "\n",
    "t_precios.sample(10)\n",
    "\n",
    "# se observa que el precio_$ (ars) dividido el tc arroja el precio_u$s_aprox.\n",
    "# se observa además que partiendo el precio_u$s_aprox dividido:\n",
    "#       el precio_m2_u$s se obtiene la sup_tot_m2 y\n",
    "#       el precio_m2 se obtiene la sup_cub_m2\n",
    "# los valores que arroja el cociente precio_$ dividido precios_m2 dan como resultado \n",
    "# superficies muy grandes, prácticamente inexistentes para el tipo de propiedades ph, apartment,\n",
    "# y houses\n",
    "# solo cuando la moneda original es ARS, se puede tomar el precio_m2 como valor válido"
   ]
  },
  {
   "cell_type": "code",
   "execution_count": 0,
   "metadata": {
    "colab": {},
    "colab_type": "code",
    "id": "fKfjg2pei694"
   },
   "outputs": [],
   "source": [
    "t_precios.loc[(t_precios['moneda_original'] != 'USD') & \\\n",
    "              (t_precios['moneda_original'] != 'ARS')].info()"
   ]
  },
  {
   "cell_type": "code",
   "execution_count": 0,
   "metadata": {
    "colab": {},
    "colab_type": "code",
    "id": "I3fCzaC9i696"
   },
   "outputs": [],
   "source": [
    "t_precios.loc[(t_precios['moneda_original'] != 'USD') & \\\n",
    "              (t_precios['moneda_original'] != 'ARS') & \\\n",
    "              (t_precios['precio_original'].notna())]\n",
    "    "
   ]
  },
  {
   "cell_type": "code",
   "execution_count": 0,
   "metadata": {
    "colab": {},
    "colab_type": "code",
    "id": "Oa_vq7Rmi697"
   },
   "outputs": [],
   "source": [
    "# \"50.388\" es el registro que quedo en pie:\n",
    "\n",
    "prop_sin_dupli.loc[50388,['tit','descr','provincia','localidad']]"
   ]
  },
  {
   "cell_type": "code",
   "execution_count": 0,
   "metadata": {
    "colab": {},
    "colab_type": "code",
    "id": "OVQ-9Ipxi69-"
   },
   "outputs": [],
   "source": [
    "t_precios.loc[(t_precios['moneda_original'] != 'USD') & \\\n",
    "              (t_precios['moneda_original'] != 'ARS') & \\\n",
    "              (t_precios['precio_original'].notna())]"
   ]
  },
  {
   "cell_type": "code",
   "execution_count": 0,
   "metadata": {
    "colab": {},
    "colab_type": "code",
    "id": "UCxmg9DGi6-A"
   },
   "outputs": [],
   "source": [
    "#Registro 9761, sin cotización de la casa y sin info de m2, no se puede inferir precios m2\n",
    "#Se elimina registro en dataframes (prop_sin_dupli) y (t_precios)\n",
    "\n",
    "prop_sin_dupli.loc[9761,['tit','descr','provincia','localidad']]"
   ]
  },
  {
   "cell_type": "code",
   "execution_count": 0,
   "metadata": {
    "colab": {},
    "colab_type": "code",
    "id": "RCwfjw-li6-E"
   },
   "outputs": [],
   "source": [
    "#prop.drop(index=50387,axis=0,inplace=True)\n",
    "\n",
    "t_precios.drop(index=9761,axis=0,inplace=True)\n",
    "prop_sin_dupli.drop(index=9761,axis=0,inplace=True)"
   ]
  },
  {
   "cell_type": "code",
   "execution_count": 0,
   "metadata": {
    "colab": {},
    "colab_type": "code",
    "id": "bxmKqqm9i6-I"
   },
   "outputs": [],
   "source": [
    "t_precios.loc[(t_precios['moneda_original'] != 'USD') & \\\n",
    "              (t_precios['moneda_original'] != 'ARS') & \\\n",
    "              (t_precios['precio_u$s_aprox'].notna())]"
   ]
  },
  {
   "cell_type": "code",
   "execution_count": 0,
   "metadata": {
    "colab": {},
    "colab_type": "code",
    "id": "hHKeHoyBi6-K"
   },
   "outputs": [],
   "source": [
    "#Registro 50388, tenemos informacion de precio_u$s_aprox y m2. Modificamos para no perder\n",
    "#registro al final. La duda que se me presenta es que dice que son tres departamentos\n",
    "\n",
    "prop_sin_dupli.loc[50388,'descr']"
   ]
  },
  {
   "cell_type": "code",
   "execution_count": 0,
   "metadata": {
    "colab": {},
    "colab_type": "code",
    "id": "9tGi5qyMi6-M"
   },
   "outputs": [],
   "source": [
    "#Vamos a confirmar que sup_cub y sup_tot en realidad son sup_tot\n",
    "#Difiere en función de la moneda_original si es ARS o USS, es decir: \n",
    "   #consideramos ab initio que cada moneda correspondería a una columna en particular \n",
    "   #(tipo de sup.)"
   ]
  },
  {
   "cell_type": "code",
   "execution_count": 0,
   "metadata": {
    "colab": {},
    "colab_type": "code",
    "id": "FEExGBe6i6-O"
   },
   "outputs": [],
   "source": [
    "t_precios_USD = t_precios.loc[t_precios['moneda_original'] == 'USD'].copy()"
   ]
  },
  {
   "cell_type": "code",
   "execution_count": 0,
   "metadata": {
    "colab": {},
    "colab_type": "code",
    "id": "3UF-HHnmi6-P"
   },
   "outputs": [],
   "source": [
    "t_precios_ARS = t_precios.loc[t_precios['moneda_original'] == 'ARS'].copy()"
   ]
  },
  {
   "cell_type": "code",
   "execution_count": 0,
   "metadata": {
    "colab": {},
    "colab_type": "code",
    "id": "r3n35VO-i6-Q"
   },
   "outputs": [],
   "source": [
    "t_precios_ARS.info()"
   ]
  },
  {
   "cell_type": "code",
   "execution_count": 0,
   "metadata": {
    "colab": {},
    "colab_type": "code",
    "id": "ChV8iAK3i6-S"
   },
   "outputs": [],
   "source": [
    "t_precios_ARS['sup_calc_arg'] = \\\n",
    "t_precios_ARS['precio_original']/t_precios_ARS['precio_m2'] #La superficie calculada arg equivale al precio en pesos dividio los m2 en pesos"
   ]
  },
  {
   "cell_type": "code",
   "execution_count": 0,
   "metadata": {
    "colab": {},
    "colab_type": "code",
    "id": "vif5F5g2i6-T"
   },
   "outputs": [],
   "source": [
    "t_precios_ARS['dif_ars'] = t_precios_ARS['sup_calc_arg'] - t_precios_ARS['sup_cub_m2']"
   ]
  },
  {
   "cell_type": "code",
   "execution_count": 0,
   "metadata": {
    "colab": {},
    "colab_type": "code",
    "id": "k5hz0yEli6-U"
   },
   "outputs": [],
   "source": [
    "t_precios_ARS.sample(5)"
   ]
  },
  {
   "cell_type": "code",
   "execution_count": 0,
   "metadata": {
    "colab": {},
    "colab_type": "code",
    "id": "OGNZ1Ujgi6-W"
   },
   "outputs": [],
   "source": [
    "t_precios_ARS['dif_ars'].describe()"
   ]
  },
  {
   "cell_type": "code",
   "execution_count": 0,
   "metadata": {
    "colab": {},
    "colab_type": "code",
    "id": "dDLLobALi6-Y"
   },
   "outputs": [],
   "source": [
    "t_precios_ARS.hist(['dif_ars']);"
   ]
  },
  {
   "cell_type": "code",
   "execution_count": 0,
   "metadata": {
    "colab": {},
    "colab_type": "code",
    "id": "2ROUmrBwi6-a"
   },
   "outputs": [],
   "source": [
    "t_precios_USD.info()"
   ]
  },
  {
   "cell_type": "code",
   "execution_count": 0,
   "metadata": {
    "colab": {},
    "colab_type": "code",
    "id": "leYPdMSli6-b"
   },
   "outputs": [],
   "source": [
    "#(a)\n",
    "t_precios_USD['sup_calc'] = \\\n",
    "t_precios_USD['precio_u$s_aprox']/t_precios_USD['precio_m2_u$s']"
   ]
  },
  {
   "cell_type": "code",
   "execution_count": 0,
   "metadata": {
    "colab": {},
    "colab_type": "code",
    "id": "uQG9hWcji6-c"
   },
   "outputs": [],
   "source": [
    "t_precios_USD['dif_uss'] = t_precios_USD['sup_calc'] - t_precios_USD['sup_tot_m2']"
   ]
  },
  {
   "cell_type": "code",
   "execution_count": 0,
   "metadata": {
    "colab": {},
    "colab_type": "code",
    "id": "q1VoQ2sxi6-e"
   },
   "outputs": [],
   "source": [
    "t_precios_USD.sample(5)"
   ]
  },
  {
   "cell_type": "code",
   "execution_count": 0,
   "metadata": {
    "colab": {},
    "colab_type": "code",
    "id": "yqmZVw4Ri6-f"
   },
   "outputs": [],
   "source": [
    "t_precios_USD['dif_uss'].describe()"
   ]
  },
  {
   "cell_type": "code",
   "execution_count": 0,
   "metadata": {
    "colab": {},
    "colab_type": "code",
    "id": "X3mHOm78i6-h"
   },
   "outputs": [],
   "source": [
    "t_precios_USD.hist(['dif_uss']);"
   ]
  },
  {
   "cell_type": "code",
   "execution_count": 0,
   "metadata": {
    "colab": {},
    "colab_type": "code",
    "id": "LcvoLoIli6-l"
   },
   "outputs": [],
   "source": [
    "#(b)\n",
    "t_precios_USD['sup_calc_2'] = \\\n",
    "t_precios_USD['precio_u$s_aprox']/t_precios_USD['precio_m2']"
   ]
  },
  {
   "cell_type": "code",
   "execution_count": 0,
   "metadata": {
    "colab": {},
    "colab_type": "code",
    "id": "fZb_H7bii6-m"
   },
   "outputs": [],
   "source": [
    "t_precios_USD['dif_uss_2'] = t_precios_USD['sup_calc_2'] - t_precios_USD['sup_tot_m2']"
   ]
  },
  {
   "cell_type": "code",
   "execution_count": 0,
   "metadata": {
    "colab": {},
    "colab_type": "code",
    "id": "Kmqa1V_hi6-o"
   },
   "outputs": [],
   "source": [
    "t_precios_USD.hist(['dif_uss_2']);"
   ]
  },
  {
   "cell_type": "code",
   "execution_count": 0,
   "metadata": {
    "colab": {},
    "colab_type": "code",
    "id": "ShvDUR-Ki6-p"
   },
   "outputs": [],
   "source": [
    "t_precios_USD['dif_uss_2'].describe()"
   ]
  },
  {
   "cell_type": "code",
   "execution_count": 0,
   "metadata": {
    "colab": {},
    "colab_type": "code",
    "id": "qHQ9Oi4ni6-q"
   },
   "outputs": [],
   "source": [
    "t_precios_USD['dif_uss_3'] = t_precios_USD['sup_calc_2'] - t_precios_USD['sup_cub_m2']"
   ]
  },
  {
   "cell_type": "code",
   "execution_count": 0,
   "metadata": {
    "colab": {},
    "colab_type": "code",
    "id": "7zvP_2L-i6-s"
   },
   "outputs": [],
   "source": [
    "t_precios_USD.hist(['dif_uss_3']);"
   ]
  },
  {
   "cell_type": "code",
   "execution_count": 0,
   "metadata": {
    "colab": {},
    "colab_type": "code",
    "id": "I5UkaA2hi6-u"
   },
   "outputs": [],
   "source": [
    "t_precios_USD['dif_uss_3'].describe()"
   ]
  },
  {
   "cell_type": "code",
   "execution_count": 0,
   "metadata": {
    "colab": {},
    "colab_type": "code",
    "id": "H_-_Ak0Qi6-v"
   },
   "outputs": [],
   "source": [
    "#Verificamos que precio_original y precio_u$s_aprox son lo mismo"
   ]
  },
  {
   "cell_type": "code",
   "execution_count": 0,
   "metadata": {
    "colab": {},
    "colab_type": "code",
    "id": "5l5HVC1Fi6-w"
   },
   "outputs": [],
   "source": [
    "t_precios_USD['cotejo_1'] = t_precios_USD['precio_u$s_aprox'] - \\\n",
    "t_precios_USD['precio_original']"
   ]
  },
  {
   "cell_type": "code",
   "execution_count": 0,
   "metadata": {
    "colab": {},
    "colab_type": "code",
    "id": "edbJ-bn4i6-y"
   },
   "outputs": [],
   "source": [
    "t_precios_USD['cotejo_1'].describe()"
   ]
  },
  {
   "cell_type": "code",
   "execution_count": 0,
   "metadata": {
    "colab": {},
    "colab_type": "code",
    "id": "lkAogDEOi6-z"
   },
   "outputs": [],
   "source": [
    "# Se confirma el patron para todos los registros:\n",
    "# Para moneda_original ARS, es consistente: precio_$ / precio_m2 = sup_cub_m2\n",
    "# Para moneda_original USS, son consistentes: precio_u$s_aprox / precio_m2_u$s = sup_tot_m2 y\n",
    "#                                             precio_u$s_aprox / precio_m2 = sup_cub_m2"
   ]
  },
  {
   "cell_type": "markdown",
   "metadata": {
    "colab_type": "text",
    "id": "QzjmIGzym9Ce"
   },
   "source": [
    "# Regex"
   ]
  },
  {
   "cell_type": "code",
   "execution_count": 0,
   "metadata": {
    "colab": {},
    "colab_type": "code",
    "id": "kH50uqG7m9Cf"
   },
   "outputs": [],
   "source": [
    "#Funciones de regex:\n",
    "\n",
    "def buscar_cant_numeral(serie,palabra_clave):\n",
    "    patron = r'(\\d+)\\s*({}\\w*)'.format(palabra_clave)\n",
    "    result = serie.str.extract(patron,re.IGNORECASE)\n",
    "    return result\n",
    "\n",
    "def buscar_cant_literal(serie,palabra_clave):\n",
    "    regex_numeros = \"uno|una|dos|tres|cuatro|cinco|seis|siete|ocho|nueve|cero|mono\"\n",
    "    patron = r'({})\\s*({}\\w*)'.format(regex_numeros,palabra_clave)\n",
    "    result = serie.str.extract(patron,re.IGNORECASE)\n",
    "    return result\n",
    "\n",
    "def buscar_cant(serie,palabra_clave):\n",
    "    numeral = buscar_cant_numeral(serie,palabra_clave)\n",
    "    literal = buscar_cant_literal(serie,palabra_clave)\n",
    "    dic= {\"cero\":0,\"uno\":1,\"una\":1,\"mono\":1,\"dos\":2,\"tres\":3,\"cuatro\":4,\"cinco\":5,\"seis\":6,\"siete\":7,\"ocho\":8,\"nueve\":9}\n",
    "    literal =literal.loc[:,0].apply(lambda x: np.NaN if pd.isnull(x) else dic[str.lower(x)])\n",
    "    numeral.iloc[:, 0].fillna(literal, inplace=True) \n",
    "    return numeral\n",
    "\n",
    "def buscar_todas (serie,lista_palabras):\n",
    "    resultado = pd.DataFrame(columns=[\"Cantidad\",\"Descripcion\"],index=serie.index)\n",
    "    for clave in lista_palabras:\n",
    "        df1 = buscar_cant(serie,clave)\n",
    "        resultado.iloc[:, 0].fillna(df1.iloc[:,0], inplace=True)\n",
    "\n",
    "    return resultado"
   ]
  },
  {
   "cell_type": "code",
   "execution_count": 0,
   "metadata": {
    "colab": {},
    "colab_type": "code",
    "id": "9oBabGIwm9Ch"
   },
   "outputs": [],
   "source": [
    "%%timeit\n",
    "ambientes_regexeados = buscar_todas(prop_sin_dupli[\"descr\"],[\"amb\",\"hab\",\"room\"])"
   ]
  },
  {
   "cell_type": "code",
   "execution_count": 0,
   "metadata": {
    "colab": {},
    "colab_type": "code",
    "id": "0M34xQU0m9Cj"
   },
   "outputs": [],
   "source": [
    "ambientes_regexeados[\"Cantidad\"].notnull().sum()"
   ]
  },
  {
   "cell_type": "code",
   "execution_count": 0,
   "metadata": {
    "colab": {},
    "colab_type": "code",
    "id": "9DORqF8Am9Cl"
   },
   "outputs": [],
   "source": [
    "%%timeit\n",
    "m2_regexeados = buscar_todas(prop_sin_dupli[\"descr\"],[\"m2\",\"ms2\",\"metros_?\\s_cua\",\"m^2\",\"m²\"])"
   ]
  },
  {
   "cell_type": "code",
   "execution_count": 0,
   "metadata": {
    "colab": {},
    "colab_type": "code",
    "id": "6A0K8YGJm9Cn"
   },
   "outputs": [],
   "source": [
    "m2_regexeados[\"Cantidad\"].notnull().sum()"
   ]
  },
  {
   "cell_type": "code",
   "execution_count": 0,
   "metadata": {
    "colab": {},
    "colab_type": "code",
    "id": "TrLhjQATm9Cq"
   },
   "outputs": [],
   "source": [
    "(prop_sin_dupli[\"ambientes\"].notnull() & ambientes_regexeados[\"Cantidad\"].notnull()).sum()"
   ]
  },
  {
   "cell_type": "code",
   "execution_count": 0,
   "metadata": {
    "colab": {},
    "colab_type": "code",
    "id": "BLQGF_D7m9Cx"
   },
   "outputs": [],
   "source": [
    "ambientes_regexeados[\"Cantidad\"].apply(lambda x: np.NaN if pd.isnull(x) else int(x))"
   ]
  },
  {
   "cell_type": "code",
   "execution_count": 0,
   "metadata": {
    "colab": {},
    "colab_type": "code",
    "id": "a6kZQFXBm9C0"
   },
   "outputs": [],
   "source": [
    "#ambientes_regexeados[\"Cantidad\"].apply(lambda x: x if x<10 else np.NaN)"
   ]
  },
  {
   "cell_type": "code",
   "execution_count": 0,
   "metadata": {
    "colab": {},
    "colab_type": "code",
    "id": "BWhUdn2jm9C3"
   },
   "outputs": [],
   "source": [
    "def buscar_palabra(serie, palabra_clave):\n",
    "    regex = r'({})'.format(palabra_clave)\n",
    "    result = serie.str.extract(regex,re.IGNORECASE)\n",
    "    return result\n"
   ]
  },
  {
   "cell_type": "code",
   "execution_count": 0,
   "metadata": {
    "colab": {},
    "colab_type": "code",
    "id": "KINH5y_6m9C7"
   },
   "outputs": [],
   "source": [
    "prop_sin_dupli[\"ambientes\"].fillna(ambientes_regexeados[\"Cantidad\"])"
   ]
  },
  {
   "cell_type": "code",
   "execution_count": 0,
   "metadata": {
    "colab": {},
    "colab_type": "code",
    "id": "epUGTyoom9C9"
   },
   "outputs": [],
   "source": [
    "prop_sin_dupli[\"ambientes\"].notna().sum()"
   ]
  },
  {
   "cell_type": "code",
   "execution_count": 0,
   "metadata": {
    "colab": {},
    "colab_type": "code",
    "id": "PYe5pF7vm9DA"
   },
   "outputs": [],
   "source": [
    "prop_sin_dupli[\"ambientes\"].fillna(ambientes_regexeados[\"Cantidad\"]).notna().sum()"
   ]
  },
  {
   "cell_type": "code",
   "execution_count": 0,
   "metadata": {
    "colab": {},
    "colab_type": "code",
    "id": "XAac1_WUm9DD"
   },
   "outputs": [],
   "source": [
    "prop_sin_dupli.loc[(prop_sin_dupli[\"ambientes\"].notna() & ambientes_regexeados[\"Cantidad\"].notna()),[\"ambientes\",\"ambientes_regexeados\"]]"
   ]
  },
  {
   "cell_type": "code",
   "execution_count": 0,
   "metadata": {
    "colab": {},
    "colab_type": "code",
    "id": "c4V7r-glm9DI"
   },
   "outputs": [],
   "source": [
    "m2_regexeados[\"Cantidad\"].notna().sum()"
   ]
  },
  {
   "cell_type": "code",
   "execution_count": 0,
   "metadata": {
    "colab": {},
    "colab_type": "code",
    "id": "uHUF5qnTm9DK"
   },
   "outputs": [],
   "source": [
    "sum_calc_as_num = m2_regexeados[\"Cantidad\"].apply(lambda x: np.NaN if pd.isnull(x) else int(x))"
   ]
  },
  {
   "cell_type": "code",
   "execution_count": 0,
   "metadata": {
    "colab": {},
    "colab_type": "code",
    "id": "vtu4xMYvm9DN"
   },
   "outputs": [],
   "source": [
    "prop_sin_dupli[\"sup_d\"]=sum_calc_as_num"
   ]
  },
  {
   "cell_type": "code",
   "execution_count": 0,
   "metadata": {
    "colab": {},
    "colab_type": "code",
    "id": "_8xAEcJti6-0"
   },
   "outputs": [],
   "source": [
    "prop_sin_dupli.info()"
   ]
  },
  {
   "cell_type": "code",
   "execution_count": 0,
   "metadata": {
    "colab": {},
    "colab_type": "code",
    "id": "Ut9KzGizi6-2"
   },
   "outputs": [],
   "source": [
    "#vamos a crear una unica columna de superficies ... verificando indices y reutilizando\n",
    "#valores calculados previamente ...\n",
    "\n",
    "psd_usd_index = prop_sin_dupli.loc[(prop_sin_dupli['moneda_original'] == 'USD') & \\\n",
    "                   (prop_sin_dupli['precio_u$s_aprox'].notna())].index"
   ]
  },
  {
   "cell_type": "code",
   "execution_count": 0,
   "metadata": {
    "colab": {},
    "colab_type": "code",
    "id": "NGBp1TcWi6-3"
   },
   "outputs": [],
   "source": [
    "tpr_usd_index = t_precios_USD.loc[#(t_precios_USD['moneda_original'] == 'USD') & \\\n",
    "                   (prop_sin_dupli['precio_u$s_aprox'].notna())].index"
   ]
  },
  {
   "cell_type": "code",
   "execution_count": 0,
   "metadata": {
    "colab": {},
    "colab_type": "code",
    "id": "Zqa98TK6i6-4"
   },
   "outputs": [],
   "source": [
    "#(psd_usd_index - tpr_usd_index != 0).sum()\n",
    "(psd_usd_index != tpr_usd_index).sum()"
   ]
  },
  {
   "cell_type": "code",
   "execution_count": 0,
   "metadata": {
    "colab": {},
    "colab_type": "code",
    "id": "TB7aF-lEi6-6"
   },
   "outputs": [],
   "source": [
    "psd_ars_index = prop_sin_dupli.loc[(prop_sin_dupli['moneda_original'] == 'ARS') & \\\n",
    "                   (prop_sin_dupli['moneda_original'].notna())].index"
   ]
  },
  {
   "cell_type": "code",
   "execution_count": 0,
   "metadata": {
    "colab": {},
    "colab_type": "code",
    "id": "6pxUU-ECi6-7"
   },
   "outputs": [],
   "source": [
    "tpr_ars_index = t_precios_ARS.loc[(t_precios_ARS['moneda_original'] == 'ARS') & \\\n",
    "(t_precios_ARS['precio_$'].notna())].index"
   ]
  },
  {
   "cell_type": "code",
   "execution_count": 0,
   "metadata": {
    "colab": {},
    "colab_type": "code",
    "id": "KhFCkz1Xi6-8"
   },
   "outputs": [],
   "source": [
    "(psd_ars_index - psd_ars_index != 0).sum()"
   ]
  },
  {
   "cell_type": "code",
   "execution_count": 0,
   "metadata": {
    "colab": {},
    "colab_type": "code",
    "id": "09z6fprvi6-9"
   },
   "outputs": [],
   "source": [
    "a_values = t_precios_USD['sup_calc'].values\n",
    "#pd.Series(a_values)"
   ]
  },
  {
   "cell_type": "code",
   "execution_count": 0,
   "metadata": {
    "colab": {},
    "colab_type": "code",
    "id": "RnxizdrBi6--"
   },
   "outputs": [],
   "source": [
    "b_values = t_precios_USD['sup_calc_2'].values"
   ]
  },
  {
   "cell_type": "code",
   "execution_count": 0,
   "metadata": {
    "colab": {},
    "colab_type": "code",
    "id": "fW1aVG9Xi6_A"
   },
   "outputs": [],
   "source": [
    "c_values = t_precios_ARS['sup_calc_arg'].values"
   ]
  },
  {
   "cell_type": "code",
   "execution_count": 0,
   "metadata": {
    "colab": {},
    "colab_type": "code",
    "id": "TblEr8Bui6_B"
   },
   "outputs": [],
   "source": [
    "prop_sin_dupli['sup_a'] = 0\n",
    "prop_sin_dupli['sup_b'] = 0\n",
    "prop_sin_dupli['sup_c'] = 0"
   ]
  },
  {
   "cell_type": "code",
   "execution_count": 0,
   "metadata": {
    "colab": {},
    "colab_type": "code",
    "id": "Hz5Kr-J7i6_C",
    "scrolled": true
   },
   "outputs": [],
   "source": [
    "#t_precios.loc[reemplazo_m2_uss_index,['precio_m2_u$s']] = reemplazo_m2_uss_values\n",
    "\n",
    "prop_sin_dupli.loc[psd_usd_index,['sup_a']] = a_values"
   ]
  },
  {
   "cell_type": "code",
   "execution_count": 0,
   "metadata": {
    "colab": {},
    "colab_type": "code",
    "id": "-B6kssYVi6_F"
   },
   "outputs": [],
   "source": [
    "prop_sin_dupli.loc[psd_usd_index,['sup_b']] = b_values"
   ]
  },
  {
   "cell_type": "code",
   "execution_count": 0,
   "metadata": {
    "colab": {},
    "colab_type": "code",
    "id": "CKI_RovSi6_G"
   },
   "outputs": [],
   "source": [
    "prop_sin_dupli.loc[psd_ars_index,['sup_c']] = c_values"
   ]
  },
  {
   "cell_type": "code",
   "execution_count": 0,
   "metadata": {
    "colab": {},
    "colab_type": "code",
    "id": "7rT2FUxVi6_I"
   },
   "outputs": [],
   "source": [
    "prop_sin_dupli.sample(3)"
   ]
  },
  {
   "cell_type": "code",
   "execution_count": 0,
   "metadata": {
    "colab": {},
    "colab_type": "code",
    "id": "rfQJNdusi6_J"
   },
   "outputs": [],
   "source": [
    "#verificamos la correcta asignación\n",
    "\n",
    "prop_sin_dupli.loc[113086]\n",
    "prop"
   ]
  },
  {
   "cell_type": "code",
   "execution_count": 0,
   "metadata": {
    "colab": {},
    "colab_type": "code",
    "id": "nSFNApY1i6_K"
   },
   "outputs": [],
   "source": [
    "prop_sin_dupli['sup_b'].sum()"
   ]
  },
  {
   "cell_type": "code",
   "execution_count": 0,
   "metadata": {
    "colab": {},
    "colab_type": "code",
    "id": "TfHeTDPKi6_L"
   },
   "outputs": [],
   "source": [
    "prop_sin_dupli['sup_c'].sum()"
   ]
  },
  {
   "cell_type": "code",
   "execution_count": 0,
   "metadata": {
    "colab": {},
    "colab_type": "code",
    "id": "__ycngNci6_O"
   },
   "outputs": [],
   "source": [
    "prop_sin_dupli['sup_a'].sum()"
   ]
  },
  {
   "cell_type": "code",
   "execution_count": 0,
   "metadata": {
    "colab": {},
    "colab_type": "code",
    "id": "iaA7jQxFi6_P"
   },
   "outputs": [],
   "source": [
    "prop_sin_dupli['sup_calc'] = 0"
   ]
  },
  {
   "cell_type": "code",
   "execution_count": 0,
   "metadata": {
    "colab": {},
    "colab_type": "code",
    "id": "JKTobxA8i6_Q"
   },
   "outputs": [],
   "source": [
    "prop_sin_dupli['sup_calc'] = prop_sin_dupli[['sup_a','sup_b','sup_c','sup_d']].median(axis=1,skipna=True)"
   ]
  },
  {
   "cell_type": "code",
   "execution_count": 0,
   "metadata": {
    "colab": {},
    "colab_type": "code",
    "id": "Y4xJvp6si6_S"
   },
   "outputs": [],
   "source": [
    "prop_sin_dupli.loc[:,['t_prop','localidad','sup_cub','sup_tot','sup_calc']].sample(5)"
   ]
  },
  {
   "cell_type": "code",
   "execution_count": 0,
   "metadata": {
    "colab": {},
    "colab_type": "code",
    "id": "-8GnTqzOm9D9"
   },
   "outputs": [],
   "source": [
    "prop_sin_dupli.info()"
   ]
  },
  {
   "cell_type": "code",
   "execution_count": 0,
   "metadata": {
    "colab": {},
    "colab_type": "code",
    "id": "iEryEKpci6_T",
    "scrolled": true
   },
   "outputs": [],
   "source": [
    "prop_sin_dupli['precio_m2_u$s_calc'] = prop_sin_dupli['precio_u$s_aprox']/prop_sin_dupli['sup_calc']"
   ]
  },
  {
   "cell_type": "code",
   "execution_count": 0,
   "metadata": {
    "colab": {},
    "colab_type": "code",
    "id": "8cChgiCZi6_T"
   },
   "outputs": [],
   "source": [
    "prop_sin_dupli['precio_m2_calc'] = prop_sin_dupli['precio_$']/prop_sin_dupli['sup_calc']"
   ]
  },
  {
   "cell_type": "code",
   "execution_count": 0,
   "metadata": {
    "colab": {},
    "colab_type": "code",
    "id": "v4rXy9rxi6_V"
   },
   "outputs": [],
   "source": [
    "prop_sin_dupli.loc[:,['precio_m2_u$s','precio_m2_u$s_calc']].sample(3)"
   ]
  },
  {
   "cell_type": "code",
   "execution_count": 0,
   "metadata": {
    "colab": {},
    "colab_type": "code",
    "id": "3acZhxybm9EJ"
   },
   "outputs": [],
   "source": [
    "prop_sin_dupli.loc[:,['precio_m2','precio_m2_calc']].sample(3)"
   ]
  },
  {
   "cell_type": "code",
   "execution_count": 0,
   "metadata": {
    "colab": {},
    "colab_type": "code",
    "id": "9ax_U6dzm9EP"
   },
   "outputs": [],
   "source": [
    "prop_sin_dupli['precio_m2_final'] = prop_sin_dupli[['precio_m2','precio_m2_calc']]\\\n",
    ".median(axis=1,skipna=True)"
   ]
  },
  {
   "cell_type": "code",
   "execution_count": 0,
   "metadata": {
    "colab": {},
    "colab_type": "code",
    "id": "zv103MWZm9EX",
    "scrolled": true
   },
   "outputs": [],
   "source": [
    "prop_sin_dupli['tc'] = 0"
   ]
  },
  {
   "cell_type": "code",
   "execution_count": 0,
   "metadata": {
    "colab": {},
    "colab_type": "code",
    "id": "mlwd4VQ8m9EY"
   },
   "outputs": [],
   "source": [
    "prop_sin_dupli['tc'] = 17.64"
   ]
  },
  {
   "cell_type": "code",
   "execution_count": 0,
   "metadata": {
    "colab": {},
    "colab_type": "code",
    "id": "TP0FlZwem9EZ"
   },
   "outputs": [],
   "source": [
    "prop_sin_dupli['precio_m2_conv'] = prop_sin_dupli['precio_m2_final'] / prop_sin_dupli['tc']"
   ]
  },
  {
   "cell_type": "code",
   "execution_count": 0,
   "metadata": {
    "colab": {},
    "colab_type": "code",
    "id": "WaHkkEXim9Eb"
   },
   "outputs": [],
   "source": [
    "prop_sin_dupli[['precio_m2_conv']].sample(5)"
   ]
  },
  {
   "cell_type": "code",
   "execution_count": 0,
   "metadata": {
    "colab": {},
    "colab_type": "code",
    "id": "MP0cw8_-m9Ed"
   },
   "outputs": [],
   "source": [
    "prop_sin_dupli['precio_m2_u$s_final'] = prop_sin_dupli[['precio_m2_u$s',\\\n",
    "                                                        'precio_m2_u$s_calc',\\\n",
    "                                                        'precio_m2_conv']]\\\n",
    ".median(axis=1,skipna=True)"
   ]
  },
  {
   "cell_type": "code",
   "execution_count": 0,
   "metadata": {
    "colab": {},
    "colab_type": "code",
    "id": "E6gW9ovym9Ee"
   },
   "outputs": [],
   "source": [
    "prop_sin_dupli[['precio_m2_u$s_final']].sample(5)"
   ]
  },
  {
   "cell_type": "code",
   "execution_count": 0,
   "metadata": {
    "colab": {},
    "colab_type": "code",
    "id": "SgFrvlB1m9Eg"
   },
   "outputs": [],
   "source": [
    "prop_sin_dupli.loc[80722,['precio_m2_u$s_final']]"
   ]
  },
  {
   "cell_type": "code",
   "execution_count": 0,
   "metadata": {
    "colab": {},
    "colab_type": "code",
    "id": "ymThOxoWm9Eh"
   },
   "outputs": [],
   "source": [
    "prop_sin_dupli[\"sup_calc\"].replace(0,np.NaN,inplace=True)"
   ]
  },
  {
   "cell_type": "code",
   "execution_count": 0,
   "metadata": {
    "colab": {},
    "colab_type": "code",
    "id": "SDPrppiYi6_W"
   },
   "outputs": [],
   "source": [
    "prop_sin_dupli.info()"
   ]
  },
  {
   "cell_type": "code",
   "execution_count": 0,
   "metadata": {
    "colab": {},
    "colab_type": "code",
    "id": "V44DHc1Ui6_X"
   },
   "outputs": [],
   "source": [
    "# hasta acá, las variables vigentes finales relacionadas a precio\n",
    "#serían: precio_u$s_aprox, precio_$, sup_calc y precio_m2_u$s_final"
   ]
  },
  {
   "cell_type": "code",
   "execution_count": 0,
   "metadata": {
    "colab": {},
    "colab_type": "code",
    "id": "ccgdy1-rm9Ek"
   },
   "outputs": [],
   "source": [
    "prop2 = prop_sin_dupli.copy()"
   ]
  },
  {
   "cell_type": "code",
   "execution_count": 0,
   "metadata": {
    "colab": {},
    "colab_type": "code",
    "id": "qfmjF_Mim9El"
   },
   "outputs": [],
   "source": [
    "#Habría borrar descr y tit también ...\n",
    "prop2.drop(['precio_original','moneda_original','lugar_completo','sup_tot_m2','sup_cub_m2','precio_m2',\\\n",
    "           'precio_m2_u$s','expenses?','duplicados','sup_a','sup_b','sup_c','precio_m2_u$s_calc',\\\n",
    "           'precio_m2_calc','precio_m2_final','tc','precio_m2_conv','sup_d'], axis=1, inplace=True)\n",
    "prop2.columns"
   ]
  },
  {
   "cell_type": "code",
   "execution_count": 0,
   "metadata": {
    "colab": {},
    "colab_type": "code",
    "id": "EyttsZkRm9Em"
   },
   "outputs": [],
   "source": [
    "prop2.info()"
   ]
  },
  {
   "cell_type": "markdown",
   "metadata": {
    "colab_type": "text",
    "id": "WIb8XruLm9En"
   },
   "source": [
    "# Incorporación de variables relevantes\n",
    "#### Utilizamos regex para buscar contenido que puede influir en el precio"
   ]
  },
  {
   "cell_type": "code",
   "execution_count": 0,
   "metadata": {
    "colab": {},
    "colab_type": "code",
    "id": "eYDgWxQKm9Eo"
   },
   "outputs": [],
   "source": [
    "piscinas = buscar_palabra(prop_sin_dupli[\"descr\"],\"piscina\").loc[:,0]\n",
    "piscinas_tit = buscar_palabra(prop_sin_dupli[\"tit\"],\"piscina\").loc[:,0]"
   ]
  },
  {
   "cell_type": "code",
   "execution_count": 0,
   "metadata": {
    "colab": {},
    "colab_type": "code",
    "id": "w8KJPYF1m9Ep"
   },
   "outputs": [],
   "source": [
    "piscinas_tit.notnull().sum()"
   ]
  },
  {
   "cell_type": "code",
   "execution_count": 0,
   "metadata": {
    "colab": {},
    "colab_type": "code",
    "id": "2_wDowXLm9Es"
   },
   "outputs": [],
   "source": [
    "piscinas =piscinas.fillna(piscinas_tit)"
   ]
  },
  {
   "cell_type": "code",
   "execution_count": 0,
   "metadata": {
    "colab": {},
    "colab_type": "code",
    "id": "nXiSYllXm9Eu"
   },
   "outputs": [],
   "source": [
    "piletas = buscar_palabra(prop_sin_dupli[\"descr\"],\"piletas\").loc[:,0]\n",
    "piletastit = buscar_palabra(prop_sin_dupli[\"tit\"],\"piletas\").loc[:,0]"
   ]
  },
  {
   "cell_type": "code",
   "execution_count": 0,
   "metadata": {
    "colab": {},
    "colab_type": "code",
    "id": "9cHifb15m9Ev"
   },
   "outputs": [],
   "source": [
    "\n",
    "print(piletas.notna().sum())\n",
    "print(piletastit.notna().sum())\n",
    "piletas = piletas.fillna(piletastit)\n",
    "piletas.notna().sum()\n"
   ]
  },
  {
   "cell_type": "code",
   "execution_count": 0,
   "metadata": {
    "colab": {},
    "colab_type": "code",
    "id": "mAAVjJxEm9Ex"
   },
   "outputs": [],
   "source": [
    "piscinas = piscinas.fillna(piletas)\n",
    "piscinas.notna().sum()"
   ]
  },
  {
   "cell_type": "code",
   "execution_count": 0,
   "metadata": {
    "colab": {},
    "colab_type": "code",
    "id": "QI4eaopvm9Ey"
   },
   "outputs": [],
   "source": [
    "prop_sin_dupli[piletas.notna() & piscinas.notnull()][\"descr\"].sample()"
   ]
  },
  {
   "cell_type": "code",
   "execution_count": 0,
   "metadata": {
    "colab": {},
    "colab_type": "code",
    "id": "bR8Ma3pom9E5"
   },
   "outputs": [],
   "source": [
    "cocheras =buscar_palabra(prop_sin_dupli[\"descr\"],\"cochera\").loc[:,0]\n",
    "cochera_tit = buscar_palabra(prop_sin_dupli[\"tit\"],\"cochera\").loc[:,0]\n",
    "\n",
    "coche = buscar_palabra(prop2[\"descr\"],\"coche\").loc[:,0]\n",
    "coche_tit = buscar_palabra(prop2[\"tit\"],\"coche\").loc[:,0]\n"
   ]
  },
  {
   "cell_type": "code",
   "execution_count": 0,
   "metadata": {
    "colab": {},
    "colab_type": "code",
    "id": "5YqMS3AXm9E6"
   },
   "outputs": [],
   "source": [
    "print(cocheras.notna().sum())\n",
    "print(cochera_tit.notna().sum())\n",
    "cocheras = cocheras.fillna(cochera_tit)\n",
    "print(cocheras.notna().sum())\n",
    "cocheras = cocheras.fillna(coche)\n",
    "cocheras = cocheras.fillna(coche_tit)\n",
    "print(cocheras.notna().sum())"
   ]
  },
  {
   "cell_type": "code",
   "execution_count": 0,
   "metadata": {
    "colab": {},
    "colab_type": "code",
    "id": "ufdzO2dYm9E9"
   },
   "outputs": [],
   "source": [
    "prop2[\"Piscina\"] = piscinas.notna()"
   ]
  },
  {
   "cell_type": "code",
   "execution_count": 0,
   "metadata": {
    "colab": {},
    "colab_type": "code",
    "id": "4FuDtZvim9E-"
   },
   "outputs": [],
   "source": [
    "prop2[\"Cochera\"] = cocheras.notna()\n"
   ]
  },
  {
   "cell_type": "code",
   "execution_count": 0,
   "metadata": {
    "colab": {},
    "colab_type": "code",
    "id": "lbXeUfyJm9FD"
   },
   "outputs": [],
   "source": [
    "patio = buscar_palabra(prop_sin_dupli[\"descr\"],\"patio\").loc[:,0]\n",
    "patio_tit = buscar_palabra(prop_sin_dupli[\"tit\"],\"patio\").loc[:,0]"
   ]
  },
  {
   "cell_type": "code",
   "execution_count": 0,
   "metadata": {
    "colab": {},
    "colab_type": "code",
    "id": "lgXytsbnm9FE"
   },
   "outputs": [],
   "source": [
    "patio = patio.fillna(patio_tit)\n",
    "patio.notna().sum()"
   ]
  },
  {
   "cell_type": "code",
   "execution_count": 0,
   "metadata": {
    "colab": {},
    "colab_type": "code",
    "id": "At47yNQ-m9FG"
   },
   "outputs": [],
   "source": [
    "jardin = buscar_palabra(prop_sin_dupli[\"descr\"],\"jard[ií]n\").loc[:,0]\n",
    "jardin_tit = buscar_palabra(prop_sin_dupli[\"tit\"],\"jard[ií]n\").loc[:,0]\n",
    "\n",
    "print(jardin.notna().sum())\n",
    "print(jardin_tit.notna().sum())\n",
    "jardin = jardin.fillna(jardin_tit)\n",
    "print(jardin.notna().sum())"
   ]
  },
  {
   "cell_type": "code",
   "execution_count": 0,
   "metadata": {
    "colab": {},
    "colab_type": "code",
    "id": "KrcHwB6Um9FK"
   },
   "outputs": [],
   "source": [
    "patio = patio.fillna(jardin)\n",
    "patio.notna().sum()"
   ]
  },
  {
   "cell_type": "code",
   "execution_count": 0,
   "metadata": {
    "colab": {},
    "colab_type": "code",
    "id": "dCG_Q2dmm9FM"
   },
   "outputs": [],
   "source": [
    "prop2[\"Patio\"] = patio.notna()"
   ]
  },
  {
   "cell_type": "code",
   "execution_count": 0,
   "metadata": {
    "colab": {},
    "colab_type": "code",
    "id": "1UvVKELJm9FN"
   },
   "outputs": [],
   "source": [
    "preventa = buscar_palabra(prop_sin_dupli[\"descr\"],\"preventa\").loc[:,0]\n",
    "preventa_tit = buscar_palabra(prop_sin_dupli[\"tit\"],\"preventa\").loc[:,0]"
   ]
  },
  {
   "cell_type": "code",
   "execution_count": 0,
   "metadata": {
    "colab": {},
    "colab_type": "code",
    "id": "OfXOMHTMm9FP"
   },
   "outputs": [],
   "source": [
    "print(preventa.notna().sum())\n",
    "preventa = preventa.fillna(preventa_tit)\n",
    "print(preventa.notna().sum())"
   ]
  },
  {
   "cell_type": "code",
   "execution_count": 0,
   "metadata": {
    "colab": {},
    "colab_type": "code",
    "id": "y-cw3bwYm9FQ"
   },
   "outputs": [],
   "source": [
    "prop2[\"Preventa\"] = preventa.notna()"
   ]
  },
  {
   "cell_type": "code",
   "execution_count": 0,
   "metadata": {
    "colab": {},
    "colab_type": "code",
    "id": "XhSAT54um9FT"
   },
   "outputs": [],
   "source": [
    "prop2[preventa.notna()]\n"
   ]
  },
  {
   "cell_type": "code",
   "execution_count": 0,
   "metadata": {
    "colab": {},
    "colab_type": "code",
    "id": "PteoWO0Em9FZ"
   },
   "outputs": [],
   "source": [
    "#LLenamos los espacios faltantes con las medias locales"
   ]
  },
  {
   "cell_type": "code",
   "execution_count": 0,
   "metadata": {
    "colab": {},
    "colab_type": "code",
    "id": "NiU13586m9Fc"
   },
   "outputs": [],
   "source": [
    "#Reemplazamos los \"inf\" con nan's para que no afecten las medias calculadas\n",
    "prop2[\"precio_m2_u$s_final\"].replace({np.inf:np.nan},inplace=True)"
   ]
  },
  {
   "cell_type": "code",
   "execution_count": 0,
   "metadata": {
    "colab": {},
    "colab_type": "code",
    "id": "5uh-15CLm9Fd"
   },
   "outputs": [],
   "source": [
    "medias_locales = prop2.groupby(by=\"localidad\",axis=0)[\"precio_m2_u$s_final\"].transform('mean')\n",
    "medias_regionales = prop2.groupby(by=\"provincia\",axis=0)[\"precio_m2_u$s_final\"].transform('mean')"
   ]
  },
  {
   "cell_type": "code",
   "execution_count": 0,
   "metadata": {
    "colab": {},
    "colab_type": "code",
    "id": "fJ8oLPDVm9Fe"
   },
   "outputs": [],
   "source": [
    "medias_locales"
   ]
  },
  {
   "cell_type": "code",
   "execution_count": 0,
   "metadata": {
    "colab": {},
    "colab_type": "code",
    "id": "KxCe0ycQm9Ff"
   },
   "outputs": [],
   "source": [
    "prop2[\"precio_m2_u$s_final\"].fillna(medias_locales,inplace=True)\n"
   ]
  },
  {
   "cell_type": "code",
   "execution_count": 0,
   "metadata": {
    "colab": {},
    "colab_type": "code",
    "id": "MYta8dt5m9Fi"
   },
   "outputs": [],
   "source": [
    "prop2.info()"
   ]
  },
  {
   "cell_type": "markdown",
   "metadata": {
    "colab_type": "text",
    "id": "ulO9VBMXm9Fj"
   },
   "source": [
    "# Visualizacion y estadistica descriptiva\n",
    "\n",
    "Observamos las medidas de tendencia central y desvios"
   ]
  },
  {
   "cell_type": "code",
   "execution_count": 0,
   "metadata": {
    "colab": {},
    "colab_type": "code",
    "id": "HVn9prHWm9Fj"
   },
   "outputs": [],
   "source": [
    "prop2[['precio_m2_u$s_final']].plot(kind='box')\n",
    "plt.show()"
   ]
  },
  {
   "cell_type": "code",
   "execution_count": 0,
   "metadata": {
    "colab": {},
    "colab_type": "code",
    "id": "H5QqPDcMm9Fk"
   },
   "outputs": [],
   "source": [
    "media = prop2['precio_m2_u$s_final'].mean()\n",
    "desvio = prop2['precio_m2_u$s_final'].std()\n",
    "outliers_precio = prop2.loc[prop2['precio_m2_u$s_final']>(media +3*desvio),['precio_m2_u$s_final']].index"
   ]
  },
  {
   "cell_type": "code",
   "execution_count": 0,
   "metadata": {
    "colab": {},
    "colab_type": "code",
    "id": "e9WPtmGzm9Fn"
   },
   "outputs": [],
   "source": [
    "prop2.drop(outliers_precio,axis=0,inplace=True)"
   ]
  },
  {
   "cell_type": "code",
   "execution_count": 0,
   "metadata": {
    "colab": {},
    "colab_type": "code",
    "id": "5ZAkTLN7m9Fo"
   },
   "outputs": [],
   "source": [
    "prop2[['precio_m2_u$s_final']].plot(kind='box')\n",
    "plt.show()"
   ]
  },
  {
   "cell_type": "code",
   "execution_count": 0,
   "metadata": {
    "colab": {},
    "colab_type": "code",
    "id": "VKyOZ7Xlm9Fp"
   },
   "outputs": [],
   "source": [
    "prop2[['sup_calc']].plot(kind='box')\n",
    "plt.show()"
   ]
  },
  {
   "cell_type": "code",
   "execution_count": 0,
   "metadata": {
    "colab": {},
    "colab_type": "code",
    "id": "JWLg2nzjm9Fq"
   },
   "outputs": [],
   "source": [
    "media = prop2['sup_calc'].mean()\n",
    "desvio = prop2['sup_calc'].std()\n",
    "outliers_sup = prop2.loc[prop2['sup_calc']>(media +3*desvio),['sup_calc']].index"
   ]
  },
  {
   "cell_type": "code",
   "execution_count": 0,
   "metadata": {
    "colab": {},
    "colab_type": "code",
    "id": "Qw19jNmXm9Fr"
   },
   "outputs": [],
   "source": [
    "prop2.drop(outliers_sup,axis=0,inplace=True)"
   ]
  },
  {
   "cell_type": "code",
   "execution_count": 0,
   "metadata": {
    "colab": {},
    "colab_type": "code",
    "id": "IvOUr49mm9Fs"
   },
   "outputs": [],
   "source": [
    "prop2[['sup_calc']].plot(kind='box')\n",
    "plt.show()"
   ]
  },
  {
   "cell_type": "code",
   "execution_count": 0,
   "metadata": {
    "colab": {},
    "colab_type": "code",
    "id": "cfAGaJiBm9Fw"
   },
   "outputs": [],
   "source": [
    "#cantidad de departamentos segun cantidad de ambientes\n",
    "prop_sin_dupli.pivot_table(values='id',index='ambientes',aggfunc='count',margins=True).head(15)"
   ]
  },
  {
   "cell_type": "code",
   "execution_count": 0,
   "metadata": {
    "colab": {},
    "colab_type": "code",
    "id": "1MgxjPnJm9Fx"
   },
   "outputs": [],
   "source": [
    "#mejoras en cantidad de ambientes\n",
    "prop_sin_dupli.pivot_table(values='ambientes',index='t_prop',aggfunc='count',margins=True)"
   ]
  },
  {
   "cell_type": "code",
   "execution_count": 0,
   "metadata": {
    "colab": {},
    "colab_type": "code",
    "id": "ArQscpYMm9Fy"
   },
   "outputs": [],
   "source": []
  },
  {
   "cell_type": "code",
   "execution_count": 0,
   "metadata": {
    "colab": {},
    "colab_type": "code",
    "id": "sZQlxO6Mm9Fz"
   },
   "outputs": [],
   "source": []
  },
  {
   "cell_type": "code",
   "execution_count": 0,
   "metadata": {
    "colab": {},
    "colab_type": "code",
    "id": "5vnZLkuGm9F2"
   },
   "outputs": [],
   "source": []
  }
 ],
 "metadata": {
  "colab": {
   "collapsed_sections": [],
   "name": "prop_v8.ipynb",
   "provenance": []
  },
  "kernelspec": {
   "display_name": "Python 3",
   "language": "python",
   "name": "python3"
  },
  "language_info": {
   "codemirror_mode": {
    "name": "ipython",
    "version": 3
   },
   "file_extension": ".py",
   "mimetype": "text/x-python",
   "name": "python",
   "nbconvert_exporter": "python",
   "pygments_lexer": "ipython3",
   "version": "3.6.6"
  }
 },
 "nbformat": 4,
 "nbformat_minor": 1
}
